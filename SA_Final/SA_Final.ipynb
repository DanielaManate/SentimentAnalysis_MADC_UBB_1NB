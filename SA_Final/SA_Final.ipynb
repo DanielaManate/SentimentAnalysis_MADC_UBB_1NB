{
  "nbformat": 4,
  "nbformat_minor": 0,
  "metadata": {
    "colab": {
      "name": "SA_Final.ipynb",
      "provenance": [],
      "collapsed_sections": [],
      "toc_visible": true,
      "authorship_tag": "ABX9TyNDwiV/VnjX0byykPJ0s1ys",
      "include_colab_link": true
    },
    "kernelspec": {
      "name": "python3",
      "display_name": "Python 3"
    }
  },
  "cells": [
    {
      "cell_type": "markdown",
      "metadata": {
        "id": "view-in-github",
        "colab_type": "text"
      },
      "source": [
        "<a href=\"https://colab.research.google.com/github/DanielaManate/SentimentAnalysis_MADC_UBB_1NB/blob/master/SA_Final/SA_Final.ipynb\" target=\"_parent\"><img src=\"https://colab.research.google.com/assets/colab-badge.svg\" alt=\"Open In Colab\"/></a>"
      ]
    },
    {
      "cell_type": "markdown",
      "metadata": {
        "id": "AbRsjJGmppS8",
        "colab_type": "text"
      },
      "source": [
        "# Importing Libraries"
      ]
    },
    {
      "cell_type": "code",
      "metadata": {
        "id": "KFoSt3_AwPSm",
        "colab_type": "code",
        "outputId": "97a52d41-0857-403e-a886-c80aa6d9b713",
        "colab": {
          "base_uri": "https://localhost:8080/",
          "height": 326
        }
      },
      "source": [
        "!pip install contractions"
      ],
      "execution_count": 1,
      "outputs": [
        {
          "output_type": "stream",
          "text": [
            "Collecting contractions\n",
            "  Downloading https://files.pythonhosted.org/packages/85/41/c3dfd5feb91a8d587ed1a59f553f07c05f95ad4e5d00ab78702fbf8fe48a/contractions-0.0.24-py2.py3-none-any.whl\n",
            "Collecting textsearch\n",
            "  Downloading https://files.pythonhosted.org/packages/42/a8/03407021f9555043de5492a2bd7a35c56cc03c2510092b5ec018cae1bbf1/textsearch-0.0.17-py2.py3-none-any.whl\n",
            "Collecting Unidecode\n",
            "\u001b[?25l  Downloading https://files.pythonhosted.org/packages/d0/42/d9edfed04228bacea2d824904cae367ee9efd05e6cce7ceaaedd0b0ad964/Unidecode-1.1.1-py2.py3-none-any.whl (238kB)\n",
            "\u001b[K     |████████████████████████████████| 245kB 2.1MB/s \n",
            "\u001b[?25hCollecting pyahocorasick\n",
            "\u001b[?25l  Downloading https://files.pythonhosted.org/packages/f4/9f/f0d8e8850e12829eea2e778f1c90e3c53a9a799b7f412082a5d21cd19ae1/pyahocorasick-1.4.0.tar.gz (312kB)\n",
            "\u001b[K     |████████████████████████████████| 317kB 45.9MB/s \n",
            "\u001b[?25hBuilding wheels for collected packages: pyahocorasick\n",
            "  Building wheel for pyahocorasick (setup.py) ... \u001b[?25l\u001b[?25hdone\n",
            "  Created wheel for pyahocorasick: filename=pyahocorasick-1.4.0-cp36-cp36m-linux_x86_64.whl size=81697 sha256=282a02009d8618b3b52aaebd36b32e1e0f7202db03d7f9275c6c344146e75427\n",
            "  Stored in directory: /root/.cache/pip/wheels/0a/90/61/87a55f5b459792fbb2b7ba6b31721b06ff5cf6bde541b40994\n",
            "Successfully built pyahocorasick\n",
            "Installing collected packages: Unidecode, pyahocorasick, textsearch, contractions\n",
            "Successfully installed Unidecode-1.1.1 contractions-0.0.24 pyahocorasick-1.4.0 textsearch-0.0.17\n"
          ],
          "name": "stdout"
        }
      ]
    },
    {
      "cell_type": "code",
      "metadata": {
        "id": "TerliV1Jme-n",
        "colab_type": "code",
        "outputId": "c3d94f7d-c907-4af5-b3e3-05f3eb28123a",
        "colab": {
          "base_uri": "https://localhost:8080/",
          "height": 156
        }
      },
      "source": [
        "import pandas as pd\n",
        "import numpy as np\n",
        "\n",
        "# Lexicons\n",
        "import nltk\n",
        "from nltk.sentiment.vader import SentimentIntensityAnalyzer\n",
        "nltk.download('vader_lexicon')\n",
        "\n",
        "# Classification Report\n",
        "from sklearn.metrics import classification_report\n",
        "\n",
        "# Preprocessing\n",
        "# Contractions\n",
        "import contractions\n",
        "# Regex \n",
        "import re\n",
        "# NLTK\n",
        "import nltk\n",
        "# Stopwords\n",
        "nltk.download('stopwords')\n",
        "from nltk.corpus import stopwords\n",
        "# Word tokenize\n",
        "nltk.download('punkt')\n",
        "from nltk.tokenize import word_tokenize\n",
        "# Stemmer\n",
        "from nltk.stem import PorterStemmer\n",
        "\n",
        "#BOW - Document-Term-Matrix\n",
        "from sklearn.feature_extraction.text import CountVectorizer\n",
        "\n",
        "# Train-Test-Split\n",
        "from sklearn.model_selection import train_test_split\n",
        "# Logistic Regression\n",
        "from sklearn.linear_model import LogisticRegression\n",
        "\n",
        "# Picke\n",
        "import pickle"
      ],
      "execution_count": 2,
      "outputs": [
        {
          "output_type": "stream",
          "text": [
            "/usr/local/lib/python3.6/dist-packages/nltk/twitter/__init__.py:20: UserWarning: The twython library has not been installed. Some functionality from the twitter package will not be available.\n",
            "  warnings.warn(\"The twython library has not been installed. \"\n"
          ],
          "name": "stderr"
        },
        {
          "output_type": "stream",
          "text": [
            "[nltk_data] Downloading package vader_lexicon to /root/nltk_data...\n",
            "[nltk_data] Downloading package stopwords to /root/nltk_data...\n",
            "[nltk_data]   Unzipping corpora/stopwords.zip.\n",
            "[nltk_data] Downloading package punkt to /root/nltk_data...\n",
            "[nltk_data]   Unzipping tokenizers/punkt.zip.\n"
          ],
          "name": "stdout"
        }
      ]
    },
    {
      "cell_type": "code",
      "metadata": {
        "id": "IAYcNQblpvgg",
        "colab_type": "code",
        "outputId": "1c471988-3302-48b8-8d5f-e8bbb12ee48e",
        "colab": {
          "base_uri": "https://localhost:8080/",
          "height": 122
        }
      },
      "source": [
        "from google.colab import drive\n",
        "drive.mount('/content/gdrive')\n",
        "path = 'gdrive/My Drive/SA_Final/'"
      ],
      "execution_count": 3,
      "outputs": [
        {
          "output_type": "stream",
          "text": [
            "Go to this URL in a browser: https://accounts.google.com/o/oauth2/auth?client_id=947318989803-6bn6qk8qdgf4n4g3pfee6491hc0brc4i.apps.googleusercontent.com&redirect_uri=urn%3aietf%3awg%3aoauth%3a2.0%3aoob&response_type=code&scope=email%20https%3a%2f%2fwww.googleapis.com%2fauth%2fdocs.test%20https%3a%2f%2fwww.googleapis.com%2fauth%2fdrive%20https%3a%2f%2fwww.googleapis.com%2fauth%2fdrive.photos.readonly%20https%3a%2f%2fwww.googleapis.com%2fauth%2fpeopleapi.readonly\n",
            "\n",
            "Enter your authorization code:\n",
            "··········\n",
            "Mounted at /content/gdrive\n"
          ],
          "name": "stdout"
        }
      ]
    },
    {
      "cell_type": "markdown",
      "metadata": {
        "id": "BbykTw8bqF4J",
        "colab_type": "text"
      },
      "source": [
        "# Reading Data"
      ]
    },
    {
      "cell_type": "code",
      "metadata": {
        "id": "V_H1NDtJqI43",
        "colab_type": "code",
        "outputId": "f677292a-7fc1-417c-c863-8eea62e0d8d2",
        "colab": {
          "base_uri": "https://localhost:8080/",
          "height": 128
        }
      },
      "source": [
        "# Reading reviews\n",
        "reviews = pd.read_csv(path + 'input_data.csv')\n",
        "print(reviews.shape)\n",
        "reviews.head(2)"
      ],
      "execution_count": 4,
      "outputs": [
        {
          "output_type": "stream",
          "text": [
            "(10346, 3)\n"
          ],
          "name": "stdout"
        },
        {
          "output_type": "execute_result",
          "data": {
            "text/html": [
              "<div>\n",
              "<style scoped>\n",
              "    .dataframe tbody tr th:only-of-type {\n",
              "        vertical-align: middle;\n",
              "    }\n",
              "\n",
              "    .dataframe tbody tr th {\n",
              "        vertical-align: top;\n",
              "    }\n",
              "\n",
              "    .dataframe thead th {\n",
              "        text-align: right;\n",
              "    }\n",
              "</style>\n",
              "<table border=\"1\" class=\"dataframe\">\n",
              "  <thead>\n",
              "    <tr style=\"text-align: right;\">\n",
              "      <th></th>\n",
              "      <th>rest_id</th>\n",
              "      <th>text</th>\n",
              "      <th>rating</th>\n",
              "    </tr>\n",
              "  </thead>\n",
              "  <tbody>\n",
              "    <tr>\n",
              "      <th>0</th>\n",
              "      <td>yGMCl0vYigshkXiZFIDTNw</td>\n",
              "      <td>We arrived for our reservation at 7:15pm.  The...</td>\n",
              "      <td>4.0</td>\n",
              "    </tr>\n",
              "    <tr>\n",
              "      <th>1</th>\n",
              "      <td>yGMCl0vYigshkXiZFIDTNw</td>\n",
              "      <td>BOGO....I find that when a server is inefficie...</td>\n",
              "      <td>3.0</td>\n",
              "    </tr>\n",
              "  </tbody>\n",
              "</table>\n",
              "</div>"
            ],
            "text/plain": [
              "                  rest_id  ... rating\n",
              "0  yGMCl0vYigshkXiZFIDTNw  ...    4.0\n",
              "1  yGMCl0vYigshkXiZFIDTNw  ...    3.0\n",
              "\n",
              "[2 rows x 3 columns]"
            ]
          },
          "metadata": {
            "tags": []
          },
          "execution_count": 4
        }
      ]
    },
    {
      "cell_type": "code",
      "metadata": {
        "id": "WFAT0IzRrLhA",
        "colab_type": "code",
        "outputId": "6aed5200-9061-4c51-d4cc-0e1077f082e0",
        "colab": {
          "base_uri": "https://localhost:8080/",
          "height": 128
        }
      },
      "source": [
        "# Exclude rating of 3\n",
        "reviews = reviews[reviews['rating']!=3].reset_index(drop=True)\n",
        "print(reviews.shape)\n",
        "reviews.head(2)"
      ],
      "execution_count": 5,
      "outputs": [
        {
          "output_type": "stream",
          "text": [
            "(9365, 3)\n"
          ],
          "name": "stdout"
        },
        {
          "output_type": "execute_result",
          "data": {
            "text/html": [
              "<div>\n",
              "<style scoped>\n",
              "    .dataframe tbody tr th:only-of-type {\n",
              "        vertical-align: middle;\n",
              "    }\n",
              "\n",
              "    .dataframe tbody tr th {\n",
              "        vertical-align: top;\n",
              "    }\n",
              "\n",
              "    .dataframe thead th {\n",
              "        text-align: right;\n",
              "    }\n",
              "</style>\n",
              "<table border=\"1\" class=\"dataframe\">\n",
              "  <thead>\n",
              "    <tr style=\"text-align: right;\">\n",
              "      <th></th>\n",
              "      <th>rest_id</th>\n",
              "      <th>text</th>\n",
              "      <th>rating</th>\n",
              "    </tr>\n",
              "  </thead>\n",
              "  <tbody>\n",
              "    <tr>\n",
              "      <th>0</th>\n",
              "      <td>yGMCl0vYigshkXiZFIDTNw</td>\n",
              "      <td>We arrived for our reservation at 7:15pm.  The...</td>\n",
              "      <td>4.0</td>\n",
              "    </tr>\n",
              "    <tr>\n",
              "      <th>1</th>\n",
              "      <td>yGMCl0vYigshkXiZFIDTNw</td>\n",
              "      <td>We received amazing service again. The food wa...</td>\n",
              "      <td>5.0</td>\n",
              "    </tr>\n",
              "  </tbody>\n",
              "</table>\n",
              "</div>"
            ],
            "text/plain": [
              "                  rest_id  ... rating\n",
              "0  yGMCl0vYigshkXiZFIDTNw  ...    4.0\n",
              "1  yGMCl0vYigshkXiZFIDTNw  ...    5.0\n",
              "\n",
              "[2 rows x 3 columns]"
            ]
          },
          "metadata": {
            "tags": []
          },
          "execution_count": 5
        }
      ]
    },
    {
      "cell_type": "code",
      "metadata": {
        "id": "2WXt07RNquOG",
        "colab_type": "code",
        "outputId": "026905ca-2d45-4bae-ddf2-d17d437f62c5",
        "colab": {
          "base_uri": "https://localhost:8080/",
          "height": 111
        }
      },
      "source": [
        "# Add column 'positive'\n",
        "reviews['positive'] = np.where(reviews['rating']>3,1,0)\n",
        "reviews.head(2)"
      ],
      "execution_count": 6,
      "outputs": [
        {
          "output_type": "execute_result",
          "data": {
            "text/html": [
              "<div>\n",
              "<style scoped>\n",
              "    .dataframe tbody tr th:only-of-type {\n",
              "        vertical-align: middle;\n",
              "    }\n",
              "\n",
              "    .dataframe tbody tr th {\n",
              "        vertical-align: top;\n",
              "    }\n",
              "\n",
              "    .dataframe thead th {\n",
              "        text-align: right;\n",
              "    }\n",
              "</style>\n",
              "<table border=\"1\" class=\"dataframe\">\n",
              "  <thead>\n",
              "    <tr style=\"text-align: right;\">\n",
              "      <th></th>\n",
              "      <th>rest_id</th>\n",
              "      <th>text</th>\n",
              "      <th>rating</th>\n",
              "      <th>positive</th>\n",
              "    </tr>\n",
              "  </thead>\n",
              "  <tbody>\n",
              "    <tr>\n",
              "      <th>0</th>\n",
              "      <td>yGMCl0vYigshkXiZFIDTNw</td>\n",
              "      <td>We arrived for our reservation at 7:15pm.  The...</td>\n",
              "      <td>4.0</td>\n",
              "      <td>1</td>\n",
              "    </tr>\n",
              "    <tr>\n",
              "      <th>1</th>\n",
              "      <td>yGMCl0vYigshkXiZFIDTNw</td>\n",
              "      <td>We received amazing service again. The food wa...</td>\n",
              "      <td>5.0</td>\n",
              "      <td>1</td>\n",
              "    </tr>\n",
              "  </tbody>\n",
              "</table>\n",
              "</div>"
            ],
            "text/plain": [
              "                  rest_id  ... positive\n",
              "0  yGMCl0vYigshkXiZFIDTNw  ...        1\n",
              "1  yGMCl0vYigshkXiZFIDTNw  ...        1\n",
              "\n",
              "[2 rows x 4 columns]"
            ]
          },
          "metadata": {
            "tags": []
          },
          "execution_count": 6
        }
      ]
    },
    {
      "cell_type": "markdown",
      "metadata": {
        "id": "j-mghZJfqm0R",
        "colab_type": "text"
      },
      "source": [
        "# 1. Sentiment Analysis using Lexicon"
      ]
    },
    {
      "cell_type": "code",
      "metadata": {
        "id": "9cByO1ygrdEM",
        "colab_type": "code",
        "outputId": "59277c3e-3675-4e74-fe6b-619fcf9ab4b7",
        "colab": {
          "base_uri": "https://localhost:8080/",
          "height": 145
        }
      },
      "source": [
        "reviews['pred_lexicon_score'] = reviews['text'].apply(lambda x: \n",
        "                                                    SentimentIntensityAnalyzer().polarity_scores(x)['compound'])\n",
        "reviews.head(2)"
      ],
      "execution_count": 7,
      "outputs": [
        {
          "output_type": "execute_result",
          "data": {
            "text/html": [
              "<div>\n",
              "<style scoped>\n",
              "    .dataframe tbody tr th:only-of-type {\n",
              "        vertical-align: middle;\n",
              "    }\n",
              "\n",
              "    .dataframe tbody tr th {\n",
              "        vertical-align: top;\n",
              "    }\n",
              "\n",
              "    .dataframe thead th {\n",
              "        text-align: right;\n",
              "    }\n",
              "</style>\n",
              "<table border=\"1\" class=\"dataframe\">\n",
              "  <thead>\n",
              "    <tr style=\"text-align: right;\">\n",
              "      <th></th>\n",
              "      <th>rest_id</th>\n",
              "      <th>text</th>\n",
              "      <th>rating</th>\n",
              "      <th>positive</th>\n",
              "      <th>pred_lexicon_score</th>\n",
              "    </tr>\n",
              "  </thead>\n",
              "  <tbody>\n",
              "    <tr>\n",
              "      <th>0</th>\n",
              "      <td>yGMCl0vYigshkXiZFIDTNw</td>\n",
              "      <td>We arrived for our reservation at 7:15pm.  The...</td>\n",
              "      <td>4.0</td>\n",
              "      <td>1</td>\n",
              "      <td>0.8954</td>\n",
              "    </tr>\n",
              "    <tr>\n",
              "      <th>1</th>\n",
              "      <td>yGMCl0vYigshkXiZFIDTNw</td>\n",
              "      <td>We received amazing service again. The food wa...</td>\n",
              "      <td>5.0</td>\n",
              "      <td>1</td>\n",
              "      <td>0.7644</td>\n",
              "    </tr>\n",
              "  </tbody>\n",
              "</table>\n",
              "</div>"
            ],
            "text/plain": [
              "                  rest_id  ... pred_lexicon_score\n",
              "0  yGMCl0vYigshkXiZFIDTNw  ...             0.8954\n",
              "1  yGMCl0vYigshkXiZFIDTNw  ...             0.7644\n",
              "\n",
              "[2 rows x 5 columns]"
            ]
          },
          "metadata": {
            "tags": []
          },
          "execution_count": 7
        }
      ]
    },
    {
      "cell_type": "code",
      "metadata": {
        "id": "QoEtcAIRrpZY",
        "colab_type": "code",
        "outputId": "439cfdab-1332-4fd1-956b-20f0b73ef26e",
        "colab": {
          "base_uri": "https://localhost:8080/",
          "height": 213
        }
      },
      "source": [
        "reviews['pred_lexicon'] = np.where(reviews['pred_lexicon_score']>=0, 1, 0)\n",
        "reviews.head(2)"
      ],
      "execution_count": 8,
      "outputs": [
        {
          "output_type": "execute_result",
          "data": {
            "text/html": [
              "<div>\n",
              "<style scoped>\n",
              "    .dataframe tbody tr th:only-of-type {\n",
              "        vertical-align: middle;\n",
              "    }\n",
              "\n",
              "    .dataframe tbody tr th {\n",
              "        vertical-align: top;\n",
              "    }\n",
              "\n",
              "    .dataframe thead th {\n",
              "        text-align: right;\n",
              "    }\n",
              "</style>\n",
              "<table border=\"1\" class=\"dataframe\">\n",
              "  <thead>\n",
              "    <tr style=\"text-align: right;\">\n",
              "      <th></th>\n",
              "      <th>rest_id</th>\n",
              "      <th>text</th>\n",
              "      <th>rating</th>\n",
              "      <th>positive</th>\n",
              "      <th>pred_lexicon_score</th>\n",
              "      <th>pred_lexicon</th>\n",
              "    </tr>\n",
              "  </thead>\n",
              "  <tbody>\n",
              "    <tr>\n",
              "      <th>0</th>\n",
              "      <td>yGMCl0vYigshkXiZFIDTNw</td>\n",
              "      <td>We arrived for our reservation at 7:15pm.  The...</td>\n",
              "      <td>4.0</td>\n",
              "      <td>1</td>\n",
              "      <td>0.8954</td>\n",
              "      <td>1</td>\n",
              "    </tr>\n",
              "    <tr>\n",
              "      <th>1</th>\n",
              "      <td>yGMCl0vYigshkXiZFIDTNw</td>\n",
              "      <td>We received amazing service again. The food wa...</td>\n",
              "      <td>5.0</td>\n",
              "      <td>1</td>\n",
              "      <td>0.7644</td>\n",
              "      <td>1</td>\n",
              "    </tr>\n",
              "  </tbody>\n",
              "</table>\n",
              "</div>"
            ],
            "text/plain": [
              "                  rest_id  ... pred_lexicon\n",
              "0  yGMCl0vYigshkXiZFIDTNw  ...            1\n",
              "1  yGMCl0vYigshkXiZFIDTNw  ...            1\n",
              "\n",
              "[2 rows x 6 columns]"
            ]
          },
          "metadata": {
            "tags": []
          },
          "execution_count": 8
        }
      ]
    },
    {
      "cell_type": "code",
      "metadata": {
        "id": "b87PHm7a0NTf",
        "colab_type": "code",
        "outputId": "dfe1052b-8c31-45f7-a2dc-0eb05b90053b",
        "colab": {
          "base_uri": "https://localhost:8080/",
          "height": 170
        }
      },
      "source": [
        "print(classification_report(reviews['positive'], \n",
        "                            reviews['pred_lexicon']))"
      ],
      "execution_count": 9,
      "outputs": [
        {
          "output_type": "stream",
          "text": [
            "              precision    recall  f1-score   support\n",
            "\n",
            "           0       0.94      0.52      0.67      2839\n",
            "           1       0.83      0.99      0.90      6526\n",
            "\n",
            "    accuracy                           0.85      9365\n",
            "   macro avg       0.88      0.76      0.79      9365\n",
            "weighted avg       0.86      0.85      0.83      9365\n",
            "\n"
          ],
          "name": "stdout"
        }
      ]
    },
    {
      "cell_type": "code",
      "metadata": {
        "id": "yhe0t29NrvG6",
        "colab_type": "code",
        "outputId": "9e353ad3-f685-47e1-d2ab-c36fd5a34969",
        "colab": {
          "base_uri": "https://localhost:8080/",
          "height": 204
        }
      },
      "source": [
        "cr_lexicon = pd.DataFrame(classification_report(reviews['positive'], \n",
        "                            reviews['pred_lexicon'], \n",
        "                            output_dict=True)).transpose()\n",
        "cr_lexicon"
      ],
      "execution_count": 10,
      "outputs": [
        {
          "output_type": "execute_result",
          "data": {
            "text/html": [
              "<div>\n",
              "<style scoped>\n",
              "    .dataframe tbody tr th:only-of-type {\n",
              "        vertical-align: middle;\n",
              "    }\n",
              "\n",
              "    .dataframe tbody tr th {\n",
              "        vertical-align: top;\n",
              "    }\n",
              "\n",
              "    .dataframe thead th {\n",
              "        text-align: right;\n",
              "    }\n",
              "</style>\n",
              "<table border=\"1\" class=\"dataframe\">\n",
              "  <thead>\n",
              "    <tr style=\"text-align: right;\">\n",
              "      <th></th>\n",
              "      <th>precision</th>\n",
              "      <th>recall</th>\n",
              "      <th>f1-score</th>\n",
              "      <th>support</th>\n",
              "    </tr>\n",
              "  </thead>\n",
              "  <tbody>\n",
              "    <tr>\n",
              "      <th>0</th>\n",
              "      <td>0.941251</td>\n",
              "      <td>0.524833</td>\n",
              "      <td>0.673903</td>\n",
              "      <td>2839.000000</td>\n",
              "    </tr>\n",
              "    <tr>\n",
              "      <th>1</th>\n",
              "      <td>0.826651</td>\n",
              "      <td>0.985749</td>\n",
              "      <td>0.899217</td>\n",
              "      <td>6526.000000</td>\n",
              "    </tr>\n",
              "    <tr>\n",
              "      <th>accuracy</th>\n",
              "      <td>0.846022</td>\n",
              "      <td>0.846022</td>\n",
              "      <td>0.846022</td>\n",
              "      <td>0.846022</td>\n",
              "    </tr>\n",
              "    <tr>\n",
              "      <th>macro avg</th>\n",
              "      <td>0.883951</td>\n",
              "      <td>0.755291</td>\n",
              "      <td>0.786560</td>\n",
              "      <td>9365.000000</td>\n",
              "    </tr>\n",
              "    <tr>\n",
              "      <th>weighted avg</th>\n",
              "      <td>0.861392</td>\n",
              "      <td>0.846022</td>\n",
              "      <td>0.830913</td>\n",
              "      <td>9365.000000</td>\n",
              "    </tr>\n",
              "  </tbody>\n",
              "</table>\n",
              "</div>"
            ],
            "text/plain": [
              "              precision    recall  f1-score      support\n",
              "0              0.941251  0.524833  0.673903  2839.000000\n",
              "1              0.826651  0.985749  0.899217  6526.000000\n",
              "accuracy       0.846022  0.846022  0.846022     0.846022\n",
              "macro avg      0.883951  0.755291  0.786560  9365.000000\n",
              "weighted avg   0.861392  0.846022  0.830913  9365.000000"
            ]
          },
          "metadata": {
            "tags": []
          },
          "execution_count": 10
        }
      ]
    },
    {
      "cell_type": "code",
      "metadata": {
        "id": "LQUtvCFOzufv",
        "colab_type": "code",
        "colab": {}
      },
      "source": [
        "cr_lexicon.to_csv(path + 'output_1lexicon.csv')"
      ],
      "execution_count": 0,
      "outputs": []
    },
    {
      "cell_type": "markdown",
      "metadata": {
        "id": "dgbAikBaqrHn",
        "colab_type": "text"
      },
      "source": [
        "# 2. Sentiment Analysis using Classification"
      ]
    },
    {
      "cell_type": "markdown",
      "metadata": {
        "id": "egWjpNtBsJl8",
        "colab_type": "text"
      },
      "source": [
        "## Text Pre-Processing"
      ]
    },
    {
      "cell_type": "code",
      "metadata": {
        "id": "aNseByx4qqeK",
        "colab_type": "code",
        "colab": {}
      },
      "source": [
        "def preprocess_text(document):\n",
        "     # Replacing contractions (don't -> do not)\n",
        "     document = contractions.fix(document)\n",
        "\n",
        "     # Lowercasing\n",
        "     document = document.lower()\n",
        "\n",
        "     # Regex - https://www.regextester.com\n",
        "     # ^ = NOT # \\w = word # \\s = whitespace\n",
        "     document = re.sub(r'[^\\w\\s]', ' ', document)\n",
        "     document = re.sub(r'[^a-z ]', '', document)\n",
        "\n",
        "     # Tokenization (splitting document into words)\n",
        "     document = word_tokenize(document)\n",
        "\n",
        "     # Removing stopwords (common words; e.g. this, that, to, a)\n",
        "     stop_words = stopwords.words('english')\n",
        "     document = [word for word in document if word not in stop_words]\n",
        "\n",
        "     # Stemmer\n",
        "     document = [PorterStemmer().stem(word) for word in document]\n",
        "     \n",
        "     # Changing output from list to sentence\n",
        "     document = ' '.join(document)\n",
        "\n",
        "     return document"
      ],
      "execution_count": 0,
      "outputs": []
    },
    {
      "cell_type": "code",
      "metadata": {
        "id": "wIeTI1kXwH9p",
        "colab_type": "code",
        "outputId": "b9996973-bee2-4794-e849-eae7605b451c",
        "colab": {
          "base_uri": "https://localhost:8080/",
          "height": 34
        }
      },
      "source": [
        "preprocess_text('test test2345 !!! ^ $ pre.process! absolute absolutely')"
      ],
      "execution_count": 13,
      "outputs": [
        {
          "output_type": "execute_result",
          "data": {
            "text/plain": [
              "'test test pre process absolut absolut'"
            ]
          },
          "metadata": {
            "tags": []
          },
          "execution_count": 13
        }
      ]
    },
    {
      "cell_type": "code",
      "metadata": {
        "id": "WfikcgllxrE1",
        "colab_type": "code",
        "outputId": "c8791e32-939b-4e87-c650-041b7c621e9c",
        "colab": {
          "base_uri": "https://localhost:8080/",
          "height": 284
        }
      },
      "source": [
        "reviews['text_prep'] = [preprocess_text(document)\n",
        "                for document in reviews['text'].to_list()]\n",
        "reviews.head(2)"
      ],
      "execution_count": 14,
      "outputs": [
        {
          "output_type": "execute_result",
          "data": {
            "text/html": [
              "<div>\n",
              "<style scoped>\n",
              "    .dataframe tbody tr th:only-of-type {\n",
              "        vertical-align: middle;\n",
              "    }\n",
              "\n",
              "    .dataframe tbody tr th {\n",
              "        vertical-align: top;\n",
              "    }\n",
              "\n",
              "    .dataframe thead th {\n",
              "        text-align: right;\n",
              "    }\n",
              "</style>\n",
              "<table border=\"1\" class=\"dataframe\">\n",
              "  <thead>\n",
              "    <tr style=\"text-align: right;\">\n",
              "      <th></th>\n",
              "      <th>rest_id</th>\n",
              "      <th>text</th>\n",
              "      <th>rating</th>\n",
              "      <th>positive</th>\n",
              "      <th>pred_lexicon_score</th>\n",
              "      <th>pred_lexicon</th>\n",
              "      <th>text_prep</th>\n",
              "    </tr>\n",
              "  </thead>\n",
              "  <tbody>\n",
              "    <tr>\n",
              "      <th>0</th>\n",
              "      <td>yGMCl0vYigshkXiZFIDTNw</td>\n",
              "      <td>We arrived for our reservation at 7:15pm.  The...</td>\n",
              "      <td>4.0</td>\n",
              "      <td>1</td>\n",
              "      <td>0.8954</td>\n",
              "      <td>1</td>\n",
              "      <td>arriv reserv pm seat us right time restur fair...</td>\n",
              "    </tr>\n",
              "    <tr>\n",
              "      <th>1</th>\n",
              "      <td>yGMCl0vYigshkXiZFIDTNw</td>\n",
              "      <td>We received amazing service again. The food wa...</td>\n",
              "      <td>5.0</td>\n",
              "      <td>1</td>\n",
              "      <td>0.7644</td>\n",
              "      <td>1</td>\n",
              "      <td>receiv amaz servic food cook right waitress sh...</td>\n",
              "    </tr>\n",
              "  </tbody>\n",
              "</table>\n",
              "</div>"
            ],
            "text/plain": [
              "                  rest_id  ...                                          text_prep\n",
              "0  yGMCl0vYigshkXiZFIDTNw  ...  arriv reserv pm seat us right time restur fair...\n",
              "1  yGMCl0vYigshkXiZFIDTNw  ...  receiv amaz servic food cook right waitress sh...\n",
              "\n",
              "[2 rows x 7 columns]"
            ]
          },
          "metadata": {
            "tags": []
          },
          "execution_count": 14
        }
      ]
    },
    {
      "cell_type": "markdown",
      "metadata": {
        "id": "TTGdanqzx7WS",
        "colab_type": "text"
      },
      "source": [
        "## BOW"
      ]
    },
    {
      "cell_type": "code",
      "metadata": {
        "id": "5N3CoF3fx86B",
        "colab_type": "code",
        "outputId": "accdb992-c242-4a04-c44a-fe5fb7f47aba",
        "colab": {
          "base_uri": "https://localhost:8080/",
          "height": 160
        }
      },
      "source": [
        "# Create dtm for most frequent 6000 words\n",
        "vec = CountVectorizer(max_features=6000)\n",
        "counts_per_review = vec.fit_transform(reviews['text_prep'])\n",
        "review_words = vec.get_feature_names()\n",
        "dtm = pd.DataFrame(counts_per_review.toarray(),\n",
        "                   columns = review_words)\n",
        "dtm.head(2)"
      ],
      "execution_count": 15,
      "outputs": [
        {
          "output_type": "execute_result",
          "data": {
            "text/html": [
              "<div>\n",
              "<style scoped>\n",
              "    .dataframe tbody tr th:only-of-type {\n",
              "        vertical-align: middle;\n",
              "    }\n",
              "\n",
              "    .dataframe tbody tr th {\n",
              "        vertical-align: top;\n",
              "    }\n",
              "\n",
              "    .dataframe thead th {\n",
              "        text-align: right;\n",
              "    }\n",
              "</style>\n",
              "<table border=\"1\" class=\"dataframe\">\n",
              "  <thead>\n",
              "    <tr style=\"text-align: right;\">\n",
              "      <th></th>\n",
              "      <th>aaabar</th>\n",
              "      <th>aaron</th>\n",
              "      <th>abacu</th>\n",
              "      <th>abid</th>\n",
              "      <th>abil</th>\n",
              "      <th>abl</th>\n",
              "      <th>absolut</th>\n",
              "      <th>absurd</th>\n",
              "      <th>abund</th>\n",
              "      <th>ac</th>\n",
              "      <th>acai</th>\n",
              "      <th>accept</th>\n",
              "      <th>access</th>\n",
              "      <th>accid</th>\n",
              "      <th>accident</th>\n",
              "      <th>accommod</th>\n",
              "      <th>accomod</th>\n",
              "      <th>accompani</th>\n",
              "      <th>accomplish</th>\n",
              "      <th>accord</th>\n",
              "      <th>accordingli</th>\n",
              "      <th>accordion</th>\n",
              "      <th>account</th>\n",
              "      <th>accur</th>\n",
              "      <th>accuraci</th>\n",
              "      <th>accus</th>\n",
              "      <th>accustom</th>\n",
              "      <th>ace</th>\n",
              "      <th>ach</th>\n",
              "      <th>achiev</th>\n",
              "      <th>acid</th>\n",
              "      <th>acknowledg</th>\n",
              "      <th>acoust</th>\n",
              "      <th>acquir</th>\n",
              "      <th>across</th>\n",
              "      <th>act</th>\n",
              "      <th>action</th>\n",
              "      <th>activ</th>\n",
              "      <th>actual</th>\n",
              "      <th>ad</th>\n",
              "      <th>...</th>\n",
              "      <th>yell</th>\n",
              "      <th>yellow</th>\n",
              "      <th>yellowtail</th>\n",
              "      <th>yelp</th>\n",
              "      <th>yelper</th>\n",
              "      <th>yen</th>\n",
              "      <th>yep</th>\n",
              "      <th>yesterday</th>\n",
              "      <th>yet</th>\n",
              "      <th>yike</th>\n",
              "      <th>yo</th>\n",
              "      <th>yogurt</th>\n",
              "      <th>yoke</th>\n",
              "      <th>yolk</th>\n",
              "      <th>york</th>\n",
              "      <th>yorker</th>\n",
              "      <th>young</th>\n",
              "      <th>younger</th>\n",
              "      <th>youngster</th>\n",
              "      <th>youth</th>\n",
              "      <th>yr</th>\n",
              "      <th>yuck</th>\n",
              "      <th>yum</th>\n",
              "      <th>yumm</th>\n",
              "      <th>yummi</th>\n",
              "      <th>yummm</th>\n",
              "      <th>yummo</th>\n",
              "      <th>yup</th>\n",
              "      <th>zach</th>\n",
              "      <th>zack</th>\n",
              "      <th>zero</th>\n",
              "      <th>zesti</th>\n",
              "      <th>zillion</th>\n",
              "      <th>zipp</th>\n",
              "      <th>ziti</th>\n",
              "      <th>zoe</th>\n",
              "      <th>zone</th>\n",
              "      <th>zucchini</th>\n",
              "      <th>zuchinni</th>\n",
              "      <th>zupa</th>\n",
              "    </tr>\n",
              "  </thead>\n",
              "  <tbody>\n",
              "    <tr>\n",
              "      <th>0</th>\n",
              "      <td>0</td>\n",
              "      <td>0</td>\n",
              "      <td>0</td>\n",
              "      <td>0</td>\n",
              "      <td>0</td>\n",
              "      <td>0</td>\n",
              "      <td>0</td>\n",
              "      <td>0</td>\n",
              "      <td>0</td>\n",
              "      <td>0</td>\n",
              "      <td>0</td>\n",
              "      <td>0</td>\n",
              "      <td>0</td>\n",
              "      <td>0</td>\n",
              "      <td>0</td>\n",
              "      <td>0</td>\n",
              "      <td>0</td>\n",
              "      <td>0</td>\n",
              "      <td>0</td>\n",
              "      <td>0</td>\n",
              "      <td>0</td>\n",
              "      <td>0</td>\n",
              "      <td>0</td>\n",
              "      <td>0</td>\n",
              "      <td>0</td>\n",
              "      <td>0</td>\n",
              "      <td>0</td>\n",
              "      <td>0</td>\n",
              "      <td>0</td>\n",
              "      <td>0</td>\n",
              "      <td>0</td>\n",
              "      <td>0</td>\n",
              "      <td>0</td>\n",
              "      <td>0</td>\n",
              "      <td>0</td>\n",
              "      <td>0</td>\n",
              "      <td>0</td>\n",
              "      <td>0</td>\n",
              "      <td>0</td>\n",
              "      <td>0</td>\n",
              "      <td>...</td>\n",
              "      <td>0</td>\n",
              "      <td>0</td>\n",
              "      <td>0</td>\n",
              "      <td>0</td>\n",
              "      <td>0</td>\n",
              "      <td>0</td>\n",
              "      <td>0</td>\n",
              "      <td>0</td>\n",
              "      <td>0</td>\n",
              "      <td>0</td>\n",
              "      <td>0</td>\n",
              "      <td>0</td>\n",
              "      <td>0</td>\n",
              "      <td>0</td>\n",
              "      <td>0</td>\n",
              "      <td>0</td>\n",
              "      <td>0</td>\n",
              "      <td>0</td>\n",
              "      <td>0</td>\n",
              "      <td>0</td>\n",
              "      <td>0</td>\n",
              "      <td>0</td>\n",
              "      <td>0</td>\n",
              "      <td>0</td>\n",
              "      <td>0</td>\n",
              "      <td>0</td>\n",
              "      <td>0</td>\n",
              "      <td>0</td>\n",
              "      <td>0</td>\n",
              "      <td>0</td>\n",
              "      <td>0</td>\n",
              "      <td>0</td>\n",
              "      <td>0</td>\n",
              "      <td>0</td>\n",
              "      <td>0</td>\n",
              "      <td>0</td>\n",
              "      <td>0</td>\n",
              "      <td>0</td>\n",
              "      <td>0</td>\n",
              "      <td>0</td>\n",
              "    </tr>\n",
              "    <tr>\n",
              "      <th>1</th>\n",
              "      <td>0</td>\n",
              "      <td>0</td>\n",
              "      <td>0</td>\n",
              "      <td>0</td>\n",
              "      <td>0</td>\n",
              "      <td>0</td>\n",
              "      <td>0</td>\n",
              "      <td>0</td>\n",
              "      <td>0</td>\n",
              "      <td>0</td>\n",
              "      <td>0</td>\n",
              "      <td>0</td>\n",
              "      <td>0</td>\n",
              "      <td>0</td>\n",
              "      <td>0</td>\n",
              "      <td>0</td>\n",
              "      <td>0</td>\n",
              "      <td>0</td>\n",
              "      <td>0</td>\n",
              "      <td>0</td>\n",
              "      <td>0</td>\n",
              "      <td>0</td>\n",
              "      <td>0</td>\n",
              "      <td>0</td>\n",
              "      <td>0</td>\n",
              "      <td>0</td>\n",
              "      <td>0</td>\n",
              "      <td>0</td>\n",
              "      <td>0</td>\n",
              "      <td>0</td>\n",
              "      <td>0</td>\n",
              "      <td>0</td>\n",
              "      <td>0</td>\n",
              "      <td>0</td>\n",
              "      <td>0</td>\n",
              "      <td>0</td>\n",
              "      <td>0</td>\n",
              "      <td>0</td>\n",
              "      <td>0</td>\n",
              "      <td>0</td>\n",
              "      <td>...</td>\n",
              "      <td>0</td>\n",
              "      <td>0</td>\n",
              "      <td>0</td>\n",
              "      <td>0</td>\n",
              "      <td>0</td>\n",
              "      <td>0</td>\n",
              "      <td>0</td>\n",
              "      <td>0</td>\n",
              "      <td>0</td>\n",
              "      <td>0</td>\n",
              "      <td>0</td>\n",
              "      <td>0</td>\n",
              "      <td>0</td>\n",
              "      <td>0</td>\n",
              "      <td>0</td>\n",
              "      <td>0</td>\n",
              "      <td>0</td>\n",
              "      <td>0</td>\n",
              "      <td>0</td>\n",
              "      <td>0</td>\n",
              "      <td>0</td>\n",
              "      <td>0</td>\n",
              "      <td>0</td>\n",
              "      <td>0</td>\n",
              "      <td>0</td>\n",
              "      <td>0</td>\n",
              "      <td>0</td>\n",
              "      <td>0</td>\n",
              "      <td>0</td>\n",
              "      <td>0</td>\n",
              "      <td>0</td>\n",
              "      <td>0</td>\n",
              "      <td>0</td>\n",
              "      <td>0</td>\n",
              "      <td>0</td>\n",
              "      <td>0</td>\n",
              "      <td>0</td>\n",
              "      <td>0</td>\n",
              "      <td>0</td>\n",
              "      <td>0</td>\n",
              "    </tr>\n",
              "  </tbody>\n",
              "</table>\n",
              "<p>2 rows × 6000 columns</p>\n",
              "</div>"
            ],
            "text/plain": [
              "   aaabar  aaron  abacu  abid  abil  ...  zoe  zone  zucchini  zuchinni  zupa\n",
              "0       0      0      0     0     0  ...    0     0         0         0     0\n",
              "1       0      0      0     0     0  ...    0     0         0         0     0\n",
              "\n",
              "[2 rows x 6000 columns]"
            ]
          },
          "metadata": {
            "tags": []
          },
          "execution_count": 15
        }
      ]
    },
    {
      "cell_type": "markdown",
      "metadata": {
        "id": "J40RWUklsLm4",
        "colab_type": "text"
      },
      "source": [
        "## Machine Learning Approach"
      ]
    },
    {
      "cell_type": "code",
      "metadata": {
        "id": "ackM8nn2yubC",
        "colab_type": "code",
        "colab": {}
      },
      "source": [
        "# Split into training & test set\n",
        "X_train, X_test, y_train, y_test = train_test_split(\n",
        "    dtm,\n",
        "    reviews['positive'],\n",
        "    train_size = 0.8,\n",
        "    random_state = 5\n",
        ")"
      ],
      "execution_count": 0,
      "outputs": []
    },
    {
      "cell_type": "code",
      "metadata": {
        "id": "mMFWveuwyw26",
        "colab_type": "code",
        "outputId": "46d4c573-76e8-4191-8d50-b3aed4f82645",
        "colab": {
          "base_uri": "https://localhost:8080/",
          "height": 51
        }
      },
      "source": [
        "%%time\n",
        "log_model = LogisticRegression(solver = 'sag', max_iter = 3000,\n",
        "                                   random_state = 5)\n",
        "log_model.fit(X_train, y_train)"
      ],
      "execution_count": 17,
      "outputs": [
        {
          "output_type": "stream",
          "text": [
            "CPU times: user 3min 22s, sys: 168 ms, total: 3min 22s\n",
            "Wall time: 3min 22s\n"
          ],
          "name": "stdout"
        }
      ]
    },
    {
      "cell_type": "code",
      "metadata": {
        "id": "3skQV1lxzB6S",
        "colab_type": "code",
        "colab": {}
      },
      "source": [
        "# Get predictions for test set\n",
        "y_pred = log_model.predict(X_test)"
      ],
      "execution_count": 0,
      "outputs": []
    },
    {
      "cell_type": "code",
      "metadata": {
        "id": "b3VpqriazGWx",
        "colab_type": "code",
        "outputId": "81186f17-8c51-4c6b-b1f6-13523521467e",
        "colab": {
          "base_uri": "https://localhost:8080/",
          "height": 170
        }
      },
      "source": [
        "# Classification Report\n",
        "print(classification_report(y_test, y_pred))"
      ],
      "execution_count": 19,
      "outputs": [
        {
          "output_type": "stream",
          "text": [
            "              precision    recall  f1-score   support\n",
            "\n",
            "           0       0.90      0.90      0.90       528\n",
            "           1       0.96      0.96      0.96      1345\n",
            "\n",
            "    accuracy                           0.94      1873\n",
            "   macro avg       0.93      0.93      0.93      1873\n",
            "weighted avg       0.94      0.94      0.94      1873\n",
            "\n"
          ],
          "name": "stdout"
        }
      ]
    },
    {
      "cell_type": "code",
      "metadata": {
        "id": "rt7yE2br0q66",
        "colab_type": "code",
        "outputId": "fb7692eb-f88e-4955-bbf8-abb03867789c",
        "colab": {
          "base_uri": "https://localhost:8080/",
          "height": 204
        }
      },
      "source": [
        "cr_ml = pd.DataFrame(classification_report(y_test, \n",
        "                            y_pred, \n",
        "                            output_dict=True)).transpose()\n",
        "cr_ml"
      ],
      "execution_count": 20,
      "outputs": [
        {
          "output_type": "execute_result",
          "data": {
            "text/html": [
              "<div>\n",
              "<style scoped>\n",
              "    .dataframe tbody tr th:only-of-type {\n",
              "        vertical-align: middle;\n",
              "    }\n",
              "\n",
              "    .dataframe tbody tr th {\n",
              "        vertical-align: top;\n",
              "    }\n",
              "\n",
              "    .dataframe thead th {\n",
              "        text-align: right;\n",
              "    }\n",
              "</style>\n",
              "<table border=\"1\" class=\"dataframe\">\n",
              "  <thead>\n",
              "    <tr style=\"text-align: right;\">\n",
              "      <th></th>\n",
              "      <th>precision</th>\n",
              "      <th>recall</th>\n",
              "      <th>f1-score</th>\n",
              "      <th>support</th>\n",
              "    </tr>\n",
              "  </thead>\n",
              "  <tbody>\n",
              "    <tr>\n",
              "      <th>0</th>\n",
              "      <td>0.900952</td>\n",
              "      <td>0.895833</td>\n",
              "      <td>0.898386</td>\n",
              "      <td>528.000000</td>\n",
              "    </tr>\n",
              "    <tr>\n",
              "      <th>1</th>\n",
              "      <td>0.959199</td>\n",
              "      <td>0.961338</td>\n",
              "      <td>0.960267</td>\n",
              "      <td>1345.000000</td>\n",
              "    </tr>\n",
              "    <tr>\n",
              "      <th>accuracy</th>\n",
              "      <td>0.942872</td>\n",
              "      <td>0.942872</td>\n",
              "      <td>0.942872</td>\n",
              "      <td>0.942872</td>\n",
              "    </tr>\n",
              "    <tr>\n",
              "      <th>macro avg</th>\n",
              "      <td>0.930076</td>\n",
              "      <td>0.928586</td>\n",
              "      <td>0.929326</td>\n",
              "      <td>1873.000000</td>\n",
              "    </tr>\n",
              "    <tr>\n",
              "      <th>weighted avg</th>\n",
              "      <td>0.942779</td>\n",
              "      <td>0.942872</td>\n",
              "      <td>0.942823</td>\n",
              "      <td>1873.000000</td>\n",
              "    </tr>\n",
              "  </tbody>\n",
              "</table>\n",
              "</div>"
            ],
            "text/plain": [
              "              precision    recall  f1-score      support\n",
              "0              0.900952  0.895833  0.898386   528.000000\n",
              "1              0.959199  0.961338  0.960267  1345.000000\n",
              "accuracy       0.942872  0.942872  0.942872     0.942872\n",
              "macro avg      0.930076  0.928586  0.929326  1873.000000\n",
              "weighted avg   0.942779  0.942872  0.942823  1873.000000"
            ]
          },
          "metadata": {
            "tags": []
          },
          "execution_count": 20
        }
      ]
    },
    {
      "cell_type": "code",
      "metadata": {
        "id": "FJ3jvtxD0s_G",
        "colab_type": "code",
        "colab": {}
      },
      "source": [
        "cr_ml.to_csv(path + 'output_2ml.csv')"
      ],
      "execution_count": 0,
      "outputs": []
    }
  ]
}